{
 "cells": [
  {
   "cell_type": "code",
   "execution_count": 66,
   "metadata": {},
   "outputs": [],
   "source": [
    "import sys, os, re, csv, codecs, numpy as np, pandas as pd\n",
    "\n",
    "from keras.preprocessing.text import Tokenizer\n",
    "from keras.preprocessing.sequence import pad_sequences\n",
    "from keras.layers import Dense, Input, LSTM, Embedding, Dropout, Activation\n",
    "from keras.layers import Bidirectional, GlobalMaxPool1D\n",
    "from keras.models import Model\n",
    "from keras import initializers, regularizers, constraints, optimizers, layers\n",
    "from keras.callbacks import ReduceLROnPlateau,EarlyStopping\n",
    "from sklearn.model_selection import StratifiedKFold"
   ]
  },
  {
   "cell_type": "code",
   "execution_count": 67,
   "metadata": {},
   "outputs": [],
   "source": [
    "path = './input/'\n",
    "comp = 'germeval2018/'\n",
    "TRAIN_DATA_FILE=f'{path}{comp}germeval2018.training.txt'\n",
    "TEST_DATA_FILE=f'{path}{comp}germeval2018.sample.txt'\n",
    "EMBEDDING_FILE=f'{path}embed_tweets_de_200M_200D/embedding_file'\n"
   ]
  },
  {
   "cell_type": "code",
   "execution_count": 68,
   "metadata": {},
   "outputs": [],
   "source": [
    "#same seed to make classifier output reproducible\n",
    "from numpy.random import seed\n",
    "seed = 1\n",
    "np.random.seed(seed)"
   ]
  },
  {
   "cell_type": "code",
   "execution_count": 69,
   "metadata": {},
   "outputs": [],
   "source": [
    "embed_size = 200 # how big is each word vector\n",
    "max_features = 15909 # how many unique words to use (i.e num rows in embedding vector)\n",
    "maxlen = 100 # max number of words in a comment to use"
   ]
  },
  {
   "cell_type": "markdown",
   "metadata": {},
   "source": [
    "# Preprocessing"
   ]
  },
  {
   "cell_type": "code",
   "execution_count": 70,
   "metadata": {},
   "outputs": [],
   "source": [
    "import re\n",
    "import re\n",
    "import sys\n",
    "\n",
    "\n",
    "def preprocess_tweet(tweet):\n",
    "    processed_tweet = []\n",
    "    # Convert to lower case\n",
    "    tweet = tweet.lower()\n",
    "    # Replaces URLs with the word URL\n",
    "    tweet = re.sub(r'((www\\.[\\S]+)|(https?://[\\S]+))', ' URLTOK ', tweet)\n",
    "    # Replace @handle with the word USER_MENTION\n",
    "    tweet = re.sub(r'@[\\S]+', 'USRTOK', tweet)\n",
    "    # Remove RT (retweet)\n",
    "    tweet = re.sub(r'\\brt\\b', 'rt', tweet)\n",
    "    words = tweet.split()\n",
    "\n",
    "    for word in words:\n",
    "        processed_tweet.append(word)\n",
    "\n",
    "    return ' '.join(processed_tweet)"
   ]
  },
  {
   "cell_type": "markdown",
   "metadata": {},
   "source": [
    "Read in our data "
   ]
  },
  {
   "cell_type": "code",
   "execution_count": 71,
   "metadata": {},
   "outputs": [],
   "source": [
    "train = pd.read_csv(TRAIN_DATA_FILE, sep=\"\\t\", header=None)\n",
    "#switch columns\n",
    "train = train[[1,0]]\n",
    "train.columns = ['sentiment', 'tweet_text']\n",
    "train.applymap(lambda x: x.strip() if type(x) is str else x)\n",
    "train['tweet_text'] = train['tweet_text'].apply(lambda x: preprocess_tweet(x))\n",
    "\n",
    "mapping = {'OTHER': 0, 'OFFENSE': 1}\n",
    "train = train.replace({'sentiment': mapping})\n",
    "train['sentiment'] = train['sentiment'].astype(np.float32)\n",
    "\n",
    "list_sentences_train = train.tweet_text\n",
    "y_train = train['sentiment'].values\n",
    "\n"
   ]
  },
  {
   "cell_type": "code",
   "execution_count": 72,
   "metadata": {},
   "outputs": [
    {
     "data": {
      "text/plain": [
       "'USRTOK USRTOK jetzt bekommt merkel noch grüne untergangs-beschleuniger dabei!'"
      ]
     },
     "execution_count": 72,
     "metadata": {},
     "output_type": "execute_result"
    }
   ],
   "source": [
    "list_sentences_train[4672]"
   ]
  },
  {
   "cell_type": "code",
   "execution_count": 73,
   "metadata": {},
   "outputs": [],
   "source": [
    "test = pd.read_csv(TEST_DATA_FILE, sep=\"\\t\", header=None)\n",
    "#switch column\n",
    "test = test[[1,0]]\n",
    "test.columns = ['sentiment', 'tweet_text']\n",
    "test.applymap(lambda x: x.strip() if type(x) is str else x)\n",
    "test['tweet_text'] = test['tweet_text'].apply(lambda x: preprocess_tweet(x))\n",
    "\n",
    "\n",
    "mapping = {'OTHER': 0, 'OFFENSE': 1}\n",
    "test = test.replace({'sentiment': mapping})\n",
    "test['sentiment'] = test['sentiment'].astype(np.float32)\n",
    "\n",
    "list_sentences_test = test.tweet_text\n",
    "y_test = test.sentiment.values"
   ]
  },
  {
   "cell_type": "markdown",
   "metadata": {},
   "source": [
    "Standard keras preprocessing, to turn each comment into a list of word indexes of equal length (with truncation or padding as needed)."
   ]
  },
  {
   "cell_type": "code",
   "execution_count": 74,
   "metadata": {},
   "outputs": [],
   "source": [
    "tokenizer = Tokenizer(num_words=max_features)\n",
    "tokenizer.fit_on_texts(list(list_sentences_train))\n",
    "list_tokenized_train = tokenizer.texts_to_sequences(list_sentences_train)\n",
    "list_tokenized_test = tokenizer.texts_to_sequences(list_sentences_test)\n",
    "X_t = pad_sequences(list_tokenized_train, maxlen=maxlen)\n",
    "X_te = pad_sequences(list_tokenized_test, maxlen=maxlen)"
   ]
  },
  {
   "cell_type": "code",
   "execution_count": 75,
   "metadata": {},
   "outputs": [
    {
     "data": {
      "text/plain": [
       "array([[    0,     0,     0, ...,  2173,    62,  5990],\n",
       "       [    0,     0,     0, ...,  5991,  1318,    18],\n",
       "       [    0,     0,     0, ...,   163,  3737,  3738],\n",
       "       ...,\n",
       "       [    0,     0,     0, ...,   912,    38,   354],\n",
       "       [    0,     0,     0, ...,     3, 15905,  1860],\n",
       "       [    0,     0,     0, ...,  1417,    15, 15908]], dtype=int32)"
      ]
     },
     "execution_count": 75,
     "metadata": {},
     "output_type": "execute_result"
    }
   ],
   "source": [
    "X_t"
   ]
  },
  {
   "cell_type": "markdown",
   "metadata": {},
   "source": [
    "Read the spinningbytes word vectors (space delimited strings) into a dictionary from word->vector."
   ]
  },
  {
   "cell_type": "code",
   "execution_count": 76,
   "metadata": {},
   "outputs": [],
   "source": [
    "def get_coefs(word,*arr): \n",
    "    return word, np.asarray(arr, dtype='float32')\n",
    "embeddings_index = dict(get_coefs(*o.strip().split()) for o in open(EMBEDDING_FILE))"
   ]
  },
  {
   "cell_type": "code",
   "execution_count": 77,
   "metadata": {},
   "outputs": [],
   "source": [
    "values = embeddings_index.values()\n",
    "for val in values:\n",
    "    if len(val) != 200:\n",
    "        print(len(val))"
   ]
  },
  {
   "cell_type": "code",
   "execution_count": 78,
   "metadata": {},
   "outputs": [
    {
     "data": {
      "text/plain": [
       "(-0.00042068152, 0.24969141)"
      ]
     },
     "execution_count": 78,
     "metadata": {},
     "output_type": "execute_result"
    }
   ],
   "source": [
    "all_embs = np.stack(embeddings_index.values())\n",
    "emb_mean,emb_std = all_embs.mean(), all_embs.std()\n",
    "emb_mean,emb_std"
   ]
  },
  {
   "cell_type": "markdown",
   "metadata": {},
   "source": [
    "Use these vectors to create our embedding matrix, with random initialization for words that aren't in the word embeddings. We'll use the same mean and stdev of embeddings the tweet embeddings have when generating the random init."
   ]
  },
  {
   "cell_type": "code",
   "execution_count": 79,
   "metadata": {},
   "outputs": [],
   "source": [
    "word_index = tokenizer.word_index\n",
    "nb_words = min(max_features, len(word_index))\n",
    "embedding_matrix = np.random.normal(emb_mean, emb_std, (nb_words+1, embed_size))\n",
    "for word, i in word_index.items():\n",
    "    if i >= max_features: continue\n",
    "    embedding_vector = embeddings_index.get(word)\n",
    "    if embedding_vector is not None: embedding_matrix[i] = embedding_vector"
   ]
  },
  {
   "cell_type": "code",
   "execution_count": 80,
   "metadata": {},
   "outputs": [
    {
     "data": {
      "text/plain": [
       "(15909, 200)"
      ]
     },
     "execution_count": 80,
     "metadata": {},
     "output_type": "execute_result"
    }
   ],
   "source": [
    "embedding_matrix.shape"
   ]
  },
  {
   "cell_type": "code",
   "execution_count": 81,
   "metadata": {},
   "outputs": [
    {
     "data": {
      "text/plain": [
       "array([ 5.41119985e-02,  1.96115002e-01, -1.42131999e-01,  2.70080008e-02,\n",
       "        7.60390013e-02, -1.41380001e-02, -1.11661002e-01,  2.05010008e-02,\n",
       "       -2.84375012e-01,  1.35187000e-01, -1.72693998e-01,  8.67289975e-02,\n",
       "        1.39009999e-02, -3.25170994e-01,  6.67719990e-02, -5.20679988e-02,\n",
       "       -3.81270014e-02, -2.16638997e-01,  5.86399995e-03,  3.60794991e-01,\n",
       "       -8.77979994e-02, -1.85095996e-01,  2.07589995e-02,  1.25900004e-03,\n",
       "       -1.22977003e-01,  2.16022000e-01,  2.42465004e-01,  1.73329994e-01,\n",
       "       -2.11730003e-02, -1.95577994e-01, -1.56466007e-01, -2.30275005e-01,\n",
       "       -2.05902994e-01, -1.62375003e-01,  1.26438007e-01, -2.16057003e-01,\n",
       "        2.69098997e-01,  9.29099973e-03,  1.08966999e-01, -7.91999977e-03,\n",
       "       -2.48077005e-01,  1.10716000e-01, -1.51537001e-01, -6.63190037e-02,\n",
       "       -4.50860001e-02,  1.17261998e-01, -3.51494998e-01,  1.29637003e-01,\n",
       "       -7.38999981e-04, -3.95597011e-01,  5.18166006e-01, -1.30132005e-01,\n",
       "        4.66998011e-01, -1.87023997e-01,  1.64330006e-01, -4.12230998e-01,\n",
       "        4.64750007e-02,  7.20629990e-02,  3.35189998e-02, -2.12386996e-01,\n",
       "       -8.47500004e-03,  8.76289979e-02,  7.74450004e-02, -9.96579975e-02,\n",
       "       -1.37831002e-01, -1.14868000e-01,  1.66011006e-01, -1.32752001e-01,\n",
       "       -1.00823998e-01,  1.34935006e-01,  5.89655995e-01, -1.42276004e-01,\n",
       "        1.32443994e-01, -1.12112001e-01, -4.09999993e-05, -2.60039996e-02,\n",
       "        1.60147995e-01,  2.18242005e-01,  1.73115000e-01,  4.55287993e-01,\n",
       "        2.38428995e-01, -3.10737014e-01, -1.67235002e-01, -1.57942995e-01,\n",
       "        1.62701994e-01, -1.12207003e-01,  4.23016995e-01, -5.82600012e-02,\n",
       "        1.47181004e-01, -1.98498994e-01,  1.80760995e-01, -2.49522999e-01,\n",
       "        3.21413994e-01,  1.08874999e-01, -5.42199984e-03,  2.65715003e-01,\n",
       "        6.29900023e-02, -1.50610004e-02,  9.66930017e-02,  9.30370018e-02,\n",
       "       -9.04320031e-02,  4.13516998e-01, -1.20839998e-01,  2.69566000e-01,\n",
       "        6.44899998e-03,  4.77700010e-02,  8.89699999e-03, -3.11313987e-01,\n",
       "        6.24199994e-02,  3.55480015e-02, -1.52327999e-01, -6.43030033e-02,\n",
       "        6.16860017e-02, -6.64210021e-02, -6.73919991e-02, -2.62905002e-01,\n",
       "       -3.34165990e-01,  2.17039004e-01,  1.86269000e-01, -2.44253993e-01,\n",
       "        1.45460993e-01, -1.91952005e-01,  2.20513999e-01, -3.29050988e-01,\n",
       "       -1.05040997e-01,  5.48620000e-02, -1.65217996e-01,  9.71390009e-02,\n",
       "        1.37413993e-01,  1.41249998e-02, -1.59757003e-01, -9.95709971e-02,\n",
       "        2.01631993e-01, -4.83729988e-02, -1.13770999e-01, -7.27320015e-02,\n",
       "        1.02398001e-01, -1.40055001e-01,  1.98740009e-02,  1.40465006e-01,\n",
       "        4.76329997e-02, -8.75060037e-02, -3.13704997e-01, -7.58929998e-02,\n",
       "        1.10508002e-01, -8.69799964e-03,  7.65559971e-02,  3.18039991e-02,\n",
       "        5.46590015e-02,  2.42624998e-01, -2.17598006e-01, -5.55670001e-02,\n",
       "       -4.28740010e-02,  5.09930015e-01,  1.93159997e-01, -1.49889998e-02,\n",
       "       -2.17199996e-02, -1.40953004e-01, -1.30217001e-01, -1.44325003e-01,\n",
       "        2.96433985e-01, -3.62343013e-01, -2.70054013e-01,  2.15555996e-01,\n",
       "        3.14134985e-01,  2.99461007e-01, -1.77439991e-02, -1.29475996e-01,\n",
       "        1.18097000e-01,  2.68810000e-02, -1.65039003e-01,  8.17110017e-02,\n",
       "       -4.90799993e-02, -2.39411995e-01, -1.76449001e-01, -1.27600998e-01,\n",
       "        3.29804003e-01,  1.29391998e-01,  4.42879982e-02, -1.02982000e-01,\n",
       "        5.07780015e-02, -1.67629004e-01, -2.95437992e-01, -5.48897028e-01,\n",
       "        2.64570005e-02, -3.03259995e-02,  3.62769999e-02, -1.93312004e-01,\n",
       "        1.61213994e-01,  1.52872995e-01,  1.89035997e-01,  2.69185990e-01,\n",
       "        3.05540003e-02, -4.07199981e-03, -6.89900015e-03, -3.28310013e-01,\n",
       "        1.10708997e-01,  1.44076005e-01,  2.55510006e-02,  1.40963003e-01])"
      ]
     },
     "execution_count": 81,
     "metadata": {},
     "output_type": "execute_result"
    }
   ],
   "source": [
    "embedding_matrix[1000]"
   ]
  },
  {
   "cell_type": "markdown",
   "metadata": {},
   "source": [
    "One-hot encoding of tweet labels"
   ]
  },
  {
   "cell_type": "code",
   "execution_count": 82,
   "metadata": {},
   "outputs": [],
   "source": [
    "y_train_one_hot = np.zeros((X_t.shape[0], 2))\n",
    "y_train_one_hot[np.arange(X_t.shape[0]),y_train.astype(np.int32)] = 1"
   ]
  },
  {
   "cell_type": "markdown",
   "metadata": {},
   "source": [
    "Simple bidirectional LSTM and some dropout (to prevent overfitting)"
   ]
  },
  {
   "cell_type": "code",
   "execution_count": 84,
   "metadata": {},
   "outputs": [
    {
     "name": "stdout",
     "output_type": "stream",
     "text": [
      "Train on 4056 samples, validate on 451 samples\n",
      "Epoch 1/10\n",
      "4056/4056 [==============================] - 40s 10ms/step - loss: 0.6452 - acc: 0.6568 - val_loss: 0.6164 - val_acc: 0.6541\n",
      "Epoch 2/10\n",
      "4056/4056 [==============================] - 20s 5ms/step - loss: 0.6148 - acc: 0.6674 - val_loss: 0.5491 - val_acc: 0.7517\n",
      "Epoch 3/10\n",
      "4056/4056 [==============================] - 20s 5ms/step - loss: 0.5012 - acc: 0.7547 - val_loss: 0.4906 - val_acc: 0.7783\n",
      "Epoch 4/10\n",
      "4056/4056 [==============================] - 20s 5ms/step - loss: 0.3420 - acc: 0.8508 - val_loss: 0.4560 - val_acc: 0.7960\n",
      "Epoch 5/10\n",
      "4056/4056 [==============================] - 20s 5ms/step - loss: 0.2119 - acc: 0.9186 - val_loss: 0.5500 - val_acc: 0.7827\n",
      "Epoch 6/10\n",
      "4056/4056 [==============================] - 20s 5ms/step - loss: 0.1346 - acc: 0.9512 - val_loss: 0.6366 - val_acc: 0.7783\n",
      "acc: 76.49%\n",
      "Train on 4057 samples, validate on 451 samples\n",
      "Epoch 1/10\n",
      "4057/4057 [==============================] - 41s 10ms/step - loss: 0.6458 - acc: 0.6613 - val_loss: 0.6177 - val_acc: 0.6674\n",
      "Epoch 2/10\n",
      "4057/4057 [==============================] - 20s 5ms/step - loss: 0.6108 - acc: 0.6704 - val_loss: 0.5325 - val_acc: 0.6896\n",
      "Epoch 3/10\n",
      "4057/4057 [==============================] - 20s 5ms/step - loss: 0.4951 - acc: 0.7624 - val_loss: 0.4409 - val_acc: 0.7783\n",
      "Epoch 4/10\n",
      "4057/4057 [==============================] - 20s 5ms/step - loss: 0.3340 - acc: 0.8580 - val_loss: 0.4266 - val_acc: 0.8049\n",
      "Epoch 5/10\n",
      "4057/4057 [==============================] - 20s 5ms/step - loss: 0.2220 - acc: 0.9118 - val_loss: 0.4765 - val_acc: 0.8093\n",
      "Epoch 6/10\n",
      "4057/4057 [==============================] - 20s 5ms/step - loss: 0.1320 - acc: 0.9537 - val_loss: 0.5861 - val_acc: 0.7916\n",
      "acc: 75.25%\n",
      "Train on 4057 samples, validate on 451 samples\n",
      "Epoch 1/10\n",
      "4057/4057 [==============================] - 41s 10ms/step - loss: 0.6496 - acc: 0.6544 - val_loss: 0.6211 - val_acc: 0.6696\n",
      "Epoch 2/10\n",
      "4057/4057 [==============================] - 20s 5ms/step - loss: 0.6061 - acc: 0.6719 - val_loss: 0.5256 - val_acc: 0.7073\n",
      "Epoch 3/10\n",
      "4057/4057 [==============================] - 20s 5ms/step - loss: 0.4811 - acc: 0.7629 - val_loss: 0.4350 - val_acc: 0.8071\n",
      "Epoch 4/10\n",
      "4057/4057 [==============================] - 21s 5ms/step - loss: 0.3218 - acc: 0.8652 - val_loss: 0.4528 - val_acc: 0.8071\n",
      "Epoch 5/10\n",
      "4057/4057 [==============================] - 20s 5ms/step - loss: 0.2053 - acc: 0.9231 - val_loss: 0.5153 - val_acc: 0.8093\n",
      "acc: 77.05%\n",
      "Train on 4057 samples, validate on 451 samples\n",
      "Epoch 1/10\n",
      "4057/4057 [==============================] - 42s 10ms/step - loss: 0.6463 - acc: 0.6557 - val_loss: 0.6334 - val_acc: 0.6452\n",
      "Epoch 2/10\n",
      "4057/4057 [==============================] - 21s 5ms/step - loss: 0.6027 - acc: 0.6670 - val_loss: 0.5801 - val_acc: 0.6585\n",
      "Epoch 3/10\n",
      "4057/4057 [==============================] - 20s 5ms/step - loss: 0.4968 - acc: 0.7602 - val_loss: 0.4899 - val_acc: 0.7517\n",
      "Epoch 4/10\n",
      "4057/4057 [==============================] - 21s 5ms/step - loss: 0.3406 - acc: 0.8533 - val_loss: 0.5121 - val_acc: 0.7694\n",
      "Epoch 5/10\n",
      "4057/4057 [==============================] - 20s 5ms/step - loss: 0.2145 - acc: 0.9196 - val_loss: 0.5436 - val_acc: 0.7982\n",
      "acc: 79.64%\n",
      "Train on 4057 samples, validate on 451 samples\n",
      "Epoch 1/10\n",
      "4057/4057 [==============================] - 41s 10ms/step - loss: 0.6463 - acc: 0.6603 - val_loss: 0.6248 - val_acc: 0.6674\n",
      "Epoch 2/10\n",
      "4057/4057 [==============================] - 20s 5ms/step - loss: 0.6007 - acc: 0.6835 - val_loss: 0.5375 - val_acc: 0.7073\n",
      "Epoch 3/10\n",
      "4057/4057 [==============================] - 20s 5ms/step - loss: 0.4692 - acc: 0.7846 - val_loss: 0.4733 - val_acc: 0.7716\n",
      "Epoch 4/10\n",
      "4057/4057 [==============================] - 20s 5ms/step - loss: 0.3102 - acc: 0.8755 - val_loss: 0.4979 - val_acc: 0.7938\n",
      "Epoch 5/10\n",
      "4057/4057 [==============================] - 20s 5ms/step - loss: 0.2008 - acc: 0.9211 - val_loss: 0.5400 - val_acc: 0.7982\n",
      "acc: 80.24%\n",
      "Train on 4057 samples, validate on 451 samples\n",
      "Epoch 1/10\n",
      "4057/4057 [==============================] - 41s 10ms/step - loss: 0.6494 - acc: 0.6544 - val_loss: 0.6273 - val_acc: 0.6585\n",
      "Epoch 2/10\n",
      "4057/4057 [==============================] - 20s 5ms/step - loss: 0.6022 - acc: 0.6741 - val_loss: 0.5581 - val_acc: 0.6785\n",
      "Epoch 3/10\n",
      "4057/4057 [==============================] - 20s 5ms/step - loss: 0.4826 - acc: 0.7747 - val_loss: 0.4495 - val_acc: 0.7982\n",
      "Epoch 4/10\n",
      "4057/4057 [==============================] - 20s 5ms/step - loss: 0.3207 - acc: 0.8696 - val_loss: 0.4569 - val_acc: 0.8160\n",
      "Epoch 5/10\n",
      "4057/4057 [==============================] - 20s 5ms/step - loss: 0.1915 - acc: 0.9253 - val_loss: 0.5422 - val_acc: 0.8004\n",
      "acc: 76.45%\n",
      "Train on 4057 samples, validate on 451 samples\n",
      "Epoch 1/10\n",
      "4057/4057 [==============================] - 41s 10ms/step - loss: 0.6417 - acc: 0.6594 - val_loss: 0.6137 - val_acc: 0.6585\n",
      "Epoch 2/10\n",
      "4057/4057 [==============================] - 20s 5ms/step - loss: 0.5949 - acc: 0.6818 - val_loss: 0.5175 - val_acc: 0.7583\n",
      "Epoch 3/10\n",
      "4057/4057 [==============================] - 20s 5ms/step - loss: 0.4544 - acc: 0.7930 - val_loss: 0.4400 - val_acc: 0.7982\n",
      "Epoch 4/10\n",
      "4057/4057 [==============================] - 21s 5ms/step - loss: 0.3050 - acc: 0.8772 - val_loss: 0.5338 - val_acc: 0.7761\n",
      "Epoch 5/10\n",
      "4057/4057 [==============================] - 20s 5ms/step - loss: 0.1832 - acc: 0.9293 - val_loss: 0.6044 - val_acc: 0.8027\n",
      "acc: 76.85%\n",
      "Train on 4057 samples, validate on 451 samples\n",
      "Epoch 1/10\n",
      "4057/4057 [==============================] - 41s 10ms/step - loss: 0.6460 - acc: 0.6596 - val_loss: 0.6135 - val_acc: 0.6718\n",
      "Epoch 2/10\n",
      "4057/4057 [==============================] - 20s 5ms/step - loss: 0.6131 - acc: 0.6670 - val_loss: 0.5435 - val_acc: 0.6874\n",
      "Epoch 3/10\n",
      "4057/4057 [==============================] - 20s 5ms/step - loss: 0.5020 - acc: 0.7501 - val_loss: 0.4542 - val_acc: 0.7694\n",
      "Epoch 4/10\n",
      "4057/4057 [==============================] - 20s 5ms/step - loss: 0.3393 - acc: 0.8526 - val_loss: 0.4639 - val_acc: 0.7960\n",
      "Epoch 5/10\n",
      "4057/4057 [==============================] - 21s 5ms/step - loss: 0.2192 - acc: 0.9184 - val_loss: 0.5718 - val_acc: 0.7849\n",
      "acc: 79.24%\n",
      "Train on 4058 samples, validate on 451 samples\n",
      "Epoch 1/10\n",
      "4058/4058 [==============================] - 41s 10ms/step - loss: 0.6510 - acc: 0.6557 - val_loss: 0.6224 - val_acc: 0.6718\n",
      "Epoch 2/10\n",
      "4058/4058 [==============================] - 20s 5ms/step - loss: 0.6228 - acc: 0.6629 - val_loss: 0.5790 - val_acc: 0.7228\n",
      "Epoch 3/10\n",
      "4058/4058 [==============================] - 20s 5ms/step - loss: 0.5145 - acc: 0.7447 - val_loss: 0.4770 - val_acc: 0.7605\n",
      "Epoch 4/10\n",
      "4058/4058 [==============================] - 20s 5ms/step - loss: 0.3495 - acc: 0.8475 - val_loss: 0.4581 - val_acc: 0.7960\n",
      "Epoch 5/10\n",
      "4058/4058 [==============================] - 20s 5ms/step - loss: 0.2139 - acc: 0.9177 - val_loss: 0.4989 - val_acc: 0.8027\n",
      "Epoch 6/10\n",
      "4058/4058 [==============================] - 20s 5ms/step - loss: 0.1305 - acc: 0.9490 - val_loss: 0.6152 - val_acc: 0.7894\n",
      "acc: 74.60%\n",
      "Train on 4058 samples, validate on 451 samples\n",
      "Epoch 1/10\n",
      "4058/4058 [==============================] - 41s 10ms/step - loss: 0.6498 - acc: 0.6597 - val_loss: 0.6302 - val_acc: 0.6652\n",
      "Epoch 2/10\n",
      "4058/4058 [==============================] - 20s 5ms/step - loss: 0.6200 - acc: 0.6641 - val_loss: 0.5694 - val_acc: 0.7295\n",
      "Epoch 3/10\n",
      "4058/4058 [==============================] - 21s 5ms/step - loss: 0.5111 - acc: 0.7366 - val_loss: 0.4769 - val_acc: 0.7938\n",
      "Epoch 4/10\n",
      "4058/4058 [==============================] - 20s 5ms/step - loss: 0.3545 - acc: 0.8457 - val_loss: 0.4596 - val_acc: 0.7938\n",
      "Epoch 5/10\n",
      "4058/4058 [==============================] - 20s 5ms/step - loss: 0.2141 - acc: 0.9182 - val_loss: 0.5346 - val_acc: 0.7627\n",
      "Epoch 6/10\n",
      "4058/4058 [==============================] - 20s 5ms/step - loss: 0.1240 - acc: 0.9574 - val_loss: 0.6396 - val_acc: 0.7916\n",
      "acc: 80.20%\n",
      "77.60% (+/- 1.96%)\n"
     ]
    }
   ],
   "source": [
    "from keras.layers import *\n",
    "from keras.models import Model\n",
    "# define 10-fold cross validation test harness\n",
    "kfold = StratifiedKFold(n_splits=10, shuffle=True, random_state=seed)\n",
    "cvscores = []\n",
    "for train, test in kfold.split(X_t, y_train):\n",
    "    inp = Input(shape=(maxlen,))\n",
    "    x = Embedding(max_features, embed_size, weights=[embedding_matrix])(inp)\n",
    "    x = Bidirectional(LSTM(64, return_sequences=True, dropout=0.5, recurrent_dropout=0.5))(x) # changed to GRU (from LSTM)\n",
    "    #x = Conv1D(64, kernel_size = 5, activation='relu')(x)\n",
    "    x = GlobalMaxPool1D()(x) \n",
    "    #avg_pool = GlobalAveragePooling1D()(x)\n",
    "    #max_pool = GlobalMaxPooling1D()(x)\n",
    "    #x = concatenate([avg_pool, max_pool])\n",
    "    x = Dense(64, activation=\"relu\")(x)\n",
    "    x = Dropout(0.5)(x) # increased dropout because of overfitting (0.5 with 3 epochs seems good)\n",
    "    x = Dense(2, activation=\"softmax\")(x) \n",
    "    \n",
    "    model = Model(inputs=inp, outputs=x)\n",
    "    \n",
    "    adam = optimizers.Adam(lr=0.001, beta_1=0.9, beta_2=0.999, epsilon=1e-08, decay=0.0)\n",
    "    rmsprop = optimizers.Adam(lr=0.001)\n",
    "    \n",
    "    model.compile(loss='binary_crossentropy', optimizer=adam, metrics=['accuracy']) #changed optimizer from 'adam' to custom adam\n",
    "    \n",
    "    reduce_lr = ReduceLROnPlateau(monitor='val_loss', factor=0.5, patience=2, min_lr=0.000001)\n",
    "    early_stopping = EarlyStopping(monitor='val_loss', min_delta=0, patience=2, verbose=0, mode='auto')\n",
    "\n",
    "    model.fit(X_t[train], y_train_one_hot[train], batch_size=32, epochs=10, validation_split=0.1, shuffle=True, callbacks=[reduce_lr,early_stopping]);\n",
    "\n",
    "    scores = model.evaluate(X_t[test], y_train_one_hot[test], verbose=0)\n",
    "    print(\"%s: %.2f%%\" % (model.metrics_names[1], scores[1]*100))\n",
    "    cvscores.append(scores[1] * 100)\n",
    "    \n",
    "print(\"%.2f%% (+/- %.2f%%)\" % (np.mean(cvscores), np.std(cvscores)))"
   ]
  },
  {
   "cell_type": "markdown",
   "metadata": {},
   "source": [
    "# Serialize Model to JSON"
   ]
  },
  {
   "cell_type": "code",
   "execution_count": 100,
   "metadata": {},
   "outputs": [
    {
     "name": "stdout",
     "output_type": "stream",
     "text": [
      "Saved model to disk\n"
     ]
    }
   ],
   "source": [
    "#from keras.models import model_from_json\n",
    "# serialize model to JSON\n",
    "#model_json = model.to_json()\n",
    "#with open(\"LSTM_model.json\", \"w\") as json_file:\n",
    "#    json_file.write(model_json)\n",
    "# serialize weights to HDF5\n",
    "#model.save_weights(\"LSTM_model.h5\")\n",
    "#print(\"Saved model to disk\")"
   ]
  },
  {
   "cell_type": "code",
   "execution_count": 102,
   "metadata": {},
   "outputs": [
    {
     "name": "stdout",
     "output_type": "stream",
     "text": [
      "Loaded model from disk\n"
     ]
    }
   ],
   "source": [
    "# load json and create model\n",
    "json_file = open('LSTM_model.json', 'r')\n",
    "loaded_model_json = json_file.read()\n",
    "json_file.close()\n",
    "loaded_model = model_from_json(loaded_model_json)\n",
    "# load weights into new model\n",
    "loaded_model.load_weights(\"LSTM_model.h5\")\n",
    "print(\"Loaded model from disk\")\n",
    " \n",
    "# evaluate loaded model on test data\n",
    "adam = optimizers.Adam(lr=0.001, beta_1=0.9, beta_2=0.999, epsilon=1e-08, decay=0.0)\n",
    "loaded_model.compile(loss='binary_crossentropy', optimizer=adam, metrics=['accuracy'])"
   ]
  },
  {
   "cell_type": "markdown",
   "metadata": {},
   "source": [
    "# Get predictions on the test set"
   ]
  },
  {
   "cell_type": "code",
   "execution_count": 110,
   "metadata": {},
   "outputs": [
    {
     "name": "stdout",
     "output_type": "stream",
     "text": [
      "100/100 [==============================] - 18s 178ms/step\n",
      "0.007993052\n"
     ]
    }
   ],
   "source": [
    "preds = model.predict(X_te, batch_size=32, verbose=1) \n",
    "print(preds[1,0])"
   ]
  },
  {
   "cell_type": "code",
   "execution_count": 111,
   "metadata": {},
   "outputs": [
    {
     "name": "stdout",
     "output_type": "stream",
     "text": [
      "Accuracy: 0.9\n"
     ]
    }
   ],
   "source": [
    "pred_pos = preds.argmax(-1)\n",
    "pred_pos = pred_pos.astype(float)\n",
    "print('Accuracy: ' + str(np.mean(pred_pos == y_test))) "
   ]
  },
  {
   "cell_type": "code",
   "execution_count": 99,
   "metadata": {},
   "outputs": [
    {
     "name": "stdout",
     "output_type": "stream",
     "text": [
      "             precision    recall  f1-score   support\n",
      "\n",
      "        0.0       0.85      0.98      0.91        51\n",
      "        1.0       0.98      0.82      0.89        49\n",
      "\n",
      "avg / total       0.91      0.90      0.90       100\n",
      "\n"
     ]
    }
   ],
   "source": [
    "from sklearn.metrics import confusion_matrix, classification_report\n",
    "print(classification_report(y_test, pred_pos))"
   ]
  },
  {
   "cell_type": "markdown",
   "metadata": {},
   "source": [
    "## Predict probabilities"
   ]
  },
  {
   "cell_type": "code",
   "execution_count": 103,
   "metadata": {},
   "outputs": [],
   "source": [
    "# create a submission\n",
    "submission = pd.DataFrame(columns=['tweet_text', 'probabilities_neutral', 'probabilities_toxic'])\n",
    "# read original tweet text\n",
    "test = pd.read_csv(TEST_DATA_FILE, sep=\"\\t\", header=None)\n",
    "submission['tweet_text'] = test[0].values \n",
    "# convert predictions \n",
    "submission['probabilities_neutral'] = preds[:,0] \n",
    "submission['probabilities_toxic'] = preds[:,1]\n",
    "# dummy value\n",
    "submission.to_csv(f\"{path}{comp}LSTM_probabilities.csv\", sep=\"\\t\", index=False, header=False)"
   ]
  },
  {
   "cell_type": "markdown",
   "metadata": {},
   "source": [
    "## Create submission file"
   ]
  },
  {
   "cell_type": "code",
   "execution_count": 104,
   "metadata": {},
   "outputs": [],
   "source": [
    "# create a submission\n",
    "submission = pd.DataFrame(columns=['tweet_text', 'binary', 'multiclass'])\n",
    "# read original tweet text\n",
    "test = pd.read_csv(TEST_DATA_FILE, sep=\"\\t\", header=None)\n",
    "submission['tweet_text'] = test[0].values \n",
    "# convert predictions \n",
    "submission['binary'] = pred_pos \n",
    "mapping = {0 :'OTHER', 1: 'OFFENSE'}\n",
    "submission = submission.replace({'binary': mapping})\n",
    "# dummy value\n",
    "submission['multiclass'] = 'OTHER'\n",
    "submission.to_csv(f\"{path}{comp}LSTM_submit.csv\", sep=\"\\t\", index=False, header=False)"
   ]
  },
  {
   "cell_type": "markdown",
   "metadata": {},
   "source": [
    "# Receiver Operating Characteristcs"
   ]
  },
  {
   "cell_type": "code",
   "execution_count": 105,
   "metadata": {},
   "outputs": [],
   "source": [
    "y_test_one_hot = np.zeros((X_te.shape[0], 2))\n",
    "y_test_one_hot[np.arange(X_te.shape[0]),y_test.astype(np.int32)] = 1\n",
    "pred_pos_one_hot = np.zeros((X_te.shape[0], 2))\n",
    "pred_pos_one_hot[np.arange(X_te.shape[0]),pred_pos.astype(np.int32)] = 1"
   ]
  },
  {
   "cell_type": "code",
   "execution_count": 106,
   "metadata": {},
   "outputs": [],
   "source": [
    "import matplotlib.pyplot as plt\n",
    "from sklearn.metrics import roc_curve, auc\n",
    "from scipy import interp\n",
    "from itertools import cycle"
   ]
  },
  {
   "cell_type": "code",
   "execution_count": 107,
   "metadata": {},
   "outputs": [],
   "source": [
    "# Compute ROC curve and ROC area for each class\n",
    "fpr = dict()\n",
    "tpr = dict()\n",
    "roc_auc = dict()\n",
    "for i in range(2):\n",
    "    fpr[i], tpr[i], _ = roc_curve(y_test, preds[:,i])\n",
    "\n",
    "    roc_auc[i] = auc(fpr[i], tpr[i])\n"
   ]
  },
  {
   "cell_type": "code",
   "execution_count": 108,
   "metadata": {},
   "outputs": [
    {
     "data": {
      "image/png": "[encoded data removed]",
      "text/plain": [
       "<Figure size 432x288 with 1 Axes>"
      ]
     },
     "metadata": {},
     "output_type": "display_data"
    }
   ],
   "source": [
    "plt.figure()\n",
    "lw = 2\n",
    "plt.plot(fpr[1], tpr[1], color='darkorange',\n",
    "         lw=lw, label='ROC curve (area = %0.2f)' % roc_auc[1])\n",
    "plt.plot([0, 1], [0, 1], color='navy', lw=lw, linestyle='--')\n",
    "plt.xlim([0.0, 1.0])\n",
    "plt.ylim([0.0, 1.05])\n",
    "plt.xlabel('False Positive Rate')\n",
    "plt.ylabel('True Positive Rate')\n",
    "plt.title('LSTM - Receiver operating characteristic metric')\n",
    "plt.legend(loc=\"lower right\")\n",
    "plt.show()"
   ]
  },
  {
   "cell_type": "code",
   "execution_count": 109,
   "metadata": {},
   "outputs": [
    {
     "data": {
      "text/plain": [
       "array([[50,  1],\n",
       "       [ 9, 40]])"
      ]
     },
     "execution_count": 109,
     "metadata": {},
     "output_type": "execute_result"
    }
   ],
   "source": [
    "from sklearn.metrics import confusion_matrix\n",
    "confusion_matrix(y_test, pred_pos)"
   ]
  },
  {
   "cell_type": "code",
   "execution_count": null,
   "metadata": {},
   "outputs": [],
   "source": []
  },
  {
   "cell_type": "code",
   "execution_count": null,
   "metadata": {},
   "outputs": [],
   "source": []
  }
 ],
 "metadata": {
  "kernelspec": {
   "display_name": "Python 3",
   "language": "python",
   "name": "python3"
  },
  "language_info": {
   "codemirror_mode": {
    "name": "ipython",
    "version": 3
   },
   "file_extension": ".py",
   "mimetype": "text/x-python",
   "name": "python",
   "nbconvert_exporter": "python",
   "pygments_lexer": "ipython3",
   "version": "3.6.5"
  }
 },
 "nbformat": 4,
 "nbformat_minor": 2
}
