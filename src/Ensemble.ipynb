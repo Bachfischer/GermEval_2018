{
 "cells": [
  {
   "cell_type": "code",
   "execution_count": 1,
   "metadata": {},
   "outputs": [],
   "source": [
    "import sys, os, re, csv, codecs, numpy as np, pandas as pd"
   ]
  },
  {
   "cell_type": "code",
   "execution_count": 2,
   "metadata": {},
   "outputs": [],
   "source": [
    "path = './input/'\n",
    "comp = 'germeval2018/'\n",
    "LSTM_PREDICTION_FILE=f'{path}{comp}LSTM_probabilities.csv'\n",
    "CNN_PREDICTION_FILE=f'{path}{comp}CNN_probabilities.csv'\n",
    "TEST_DATA_FILE=f'{path}{comp}germeval2018.sample.txt'"
   ]
  },
  {
   "cell_type": "code",
   "execution_count": 3,
   "metadata": {},
   "outputs": [],
   "source": [
    "lstm_p = pd.read_csv(LSTM_PREDICTION_FILE, sep=\"\\t\", header=None)\n",
    "cnn_p = pd.read_csv(CNN_PREDICTION_FILE, sep=\"\\t\", header=None)"
   ]
  },
  {
   "cell_type": "code",
   "execution_count": 4,
   "metadata": {},
   "outputs": [],
   "source": [
    "p_res = lstm_p.copy()\n",
    "p_res[1] = (lstm_p[1] + cnn_p[1]) / 2\n",
    "p_res[2] = (lstm_p[2] + cnn_p[2]) / 2"
   ]
  },
  {
   "cell_type": "code",
   "execution_count": 5,
   "metadata": {},
   "outputs": [],
   "source": [
    "preds = p_res.drop([0], axis=1).values\n"
   ]
  },
  {
   "cell_type": "code",
   "execution_count": 6,
   "metadata": {},
   "outputs": [],
   "source": [
    "pred_pos = preds.argmax(-1)\n",
    "pred_pos = pred_pos.astype(float)"
   ]
  },
  {
   "cell_type": "markdown",
   "metadata": {},
   "source": [
    "## Predict probabilities"
   ]
  },
  {
   "cell_type": "code",
   "execution_count": 7,
   "metadata": {},
   "outputs": [],
   "source": [
    " # create a submission\n",
    "submission = pd.DataFrame(columns=['tweet_text', 'probabilities_neutral', 'probabilities_toxic'])\n",
    "# read original tweet text\n",
    "test = pd.read_csv(TEST_DATA_FILE, sep=\"\\t\", header=None)\n",
    "submission['tweet_text'] = test[0].values \n",
    "# convert predictions \n",
    "submission['probabilities_neutral'] = preds[:,0] \n",
    "submission['probabilities_toxic'] = preds[:,1]\n",
    "# dummy value\n",
    "submission.to_csv(f\"{path}{comp}Ensemble_probabilities.csv\", sep=\"\\t\", index=False, header=False)"
   ]
  },
  {
   "cell_type": "markdown",
   "metadata": {},
   "source": [
    "## Create submission file"
   ]
  },
  {
   "cell_type": "code",
   "execution_count": 8,
   "metadata": {},
   "outputs": [],
   "source": [
    "# create a submission\n",
    "submission = pd.DataFrame(columns=['tweet_text', 'binary', 'multiclass'])\n",
    "# read original tweet text\n",
    "test = pd.read_csv(LSTM_PREDICTION_FILE, sep=\"\\t\", header=None)\n",
    "submission['tweet_text'] = test[0].values \n",
    "# convert predictions \n",
    "submission['binary'] = pred_pos \n",
    "mapping = {0 :'OTHER', 1: 'OFFENSE'}\n",
    "submission = submission.replace({'binary': mapping})\n",
    "# dummy value\n",
    "submission['multiclass'] = 'OTHER'\n",
    "submission.to_csv(f\"{path}{comp}Ensemble_submit.csv\", sep=\"\\t\", index=False, header=False)"
   ]
  },
  {
   "cell_type": "markdown",
   "metadata": {},
   "source": [
    "# Print AUC curve"
   ]
  },
  {
   "cell_type": "code",
   "execution_count": 9,
   "metadata": {},
   "outputs": [],
   "source": [
    "import matplotlib.pyplot as plt\n",
    "from sklearn.metrics import roc_curve, auc\n",
    "from scipy import interp\n",
    "from itertools import cycle\n",
    "\n"
   ]
  },
  {
   "cell_type": "code",
   "execution_count": 10,
   "metadata": {},
   "outputs": [],
   "source": [
    "test = pd.read_csv(TEST_DATA_FILE, sep=\"\\t\", header=None)\n",
    "#perform binary classification\n",
    "test = test[[1,0]]\n",
    "test.columns = ['sentiment', 'tweet_text']\n",
    "test.applymap(lambda x: x.strip() if type(x) is str else x)\n",
    "\n",
    "\n",
    "mapping = {'OTHER': 0, 'OFFENSE': 1}\n",
    "test = test.replace({'sentiment': mapping})\n",
    "#df_clas_data['sentiment'] = df_clas_data['sentiment'].str.strip()\n",
    "test['sentiment'] = test['sentiment'].astype(np.float32)\n",
    "\n",
    "list_sentences_test = test.tweet_text\n",
    "y_test = test.sentiment.values"
   ]
  },
  {
   "cell_type": "code",
   "execution_count": 11,
   "metadata": {},
   "outputs": [],
   "source": [
    "# Compute ROC curve and ROC area for each class\n",
    "fpr = dict()\n",
    "tpr = dict()\n",
    "roc_auc = dict()\n",
    "for i in range(2):\n",
    "    fpr[i], tpr[i], _ = roc_curve(y_test, preds[:,i])\n",
    "\n",
    "    roc_auc[i] = auc(fpr[i], tpr[i])\n",
    "\n",
    "\n"
   ]
  },
  {
   "cell_type": "code",
   "execution_count": 12,
   "metadata": {},
   "outputs": [
    {
     "data": {
      "image/png": "[encoded data removed]",
      "text/plain": [
       "<Figure size 432x288 with 1 Axes>"
      ]
     },
     "metadata": {},
     "output_type": "display_data"
    }
   ],
   "source": [
    "plt.figure()\n",
    "lw = 2\n",
    "plt.plot(fpr[1], tpr[1], color='darkorange',\n",
    "         lw=lw, label='ROC curve (area = %0.3f)' % roc_auc[1])\n",
    "plt.plot([0, 1], [0, 1], color='navy', lw=lw, linestyle='--')\n",
    "plt.xlim([0.0, 1.0])\n",
    "plt.ylim([0.0, 1.05])\n",
    "plt.xlabel('False Positive Rate')\n",
    "plt.ylabel('True Positive Rate')\n",
    "plt.title('LSTM - Receiver operating characteristic metric')\n",
    "plt.legend(loc=\"lower right\")\n",
    "plt.show()"
   ]
  },
  {
   "cell_type": "code",
   "execution_count": 13,
   "metadata": {},
   "outputs": [
    {
     "name": "stdout",
     "output_type": "stream",
     "text": [
      "             precision    recall  f1-score   support\n",
      "\n",
      "        0.0       0.83      0.96      0.89        51\n",
      "        1.0       0.95      0.80      0.87        49\n",
      "\n",
      "avg / total       0.89      0.88      0.88       100\n",
      "\n"
     ]
    }
   ],
   "source": [
    "from sklearn.metrics import confusion_matrix, classification_report\n",
    "print(classification_report(y_test, pred_pos))"
   ]
  },
  {
   "cell_type": "code",
   "execution_count": null,
   "metadata": {},
   "outputs": [],
   "source": []
  },
  {
   "cell_type": "code",
   "execution_count": null,
   "metadata": {},
   "outputs": [],
   "source": []
  },
  {
   "cell_type": "code",
   "execution_count": null,
   "metadata": {},
   "outputs": [],
   "source": []
  },
  {
   "cell_type": "code",
   "execution_count": null,
   "metadata": {},
   "outputs": [],
   "source": []
  },
  {
   "cell_type": "code",
   "execution_count": null,
   "metadata": {},
   "outputs": [],
   "source": []
  }
 ],
 "metadata": {
  "kernelspec": {
   "display_name": "Python 3",
   "language": "python",
   "name": "python3"
  },
  "language_info": {
   "codemirror_mode": {
    "name": "ipython",
    "version": 3
   },
   "file_extension": ".py",
   "mimetype": "text/x-python",
   "name": "python",
   "nbconvert_exporter": "python",
   "pygments_lexer": "ipython3",
   "version": "3.6.5"
  }
 },
 "nbformat": 4,
 "nbformat_minor": 2
}
